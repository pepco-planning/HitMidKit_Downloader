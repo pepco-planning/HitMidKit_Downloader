{
 "cells": [
  {
   "cell_type": "code",
   "execution_count": 58,
   "id": "968587fe",
   "metadata": {},
   "outputs": [],
   "source": [
    "import pandas as pd\n",
    "import numpy as np"
   ]
  },
  {
   "cell_type": "code",
   "execution_count": 4,
   "id": "32428b96",
   "metadata": {},
   "outputs": [],
   "source": [
    "path_ = \"c:\\Mariusz\\MyProjects\\HitMidKit_Downloader\\workbook\\HMK Program Files\""
   ]
  },
  {
   "cell_type": "code",
   "execution_count": 5,
   "id": "52fb01b9",
   "metadata": {},
   "outputs": [],
   "source": [
    "df_sku = pd.read_csv(path_+ \"\\Sku_plu_1.2.4.4.csv\")"
   ]
  },
  {
   "cell_type": "code",
   "execution_count": 7,
   "id": "9da7e9b1",
   "metadata": {},
   "outputs": [],
   "source": [
    "df_db = pd.read_csv(path_+ \"\\Database_1.2.4.4.csv\")"
   ]
  },
  {
   "cell_type": "code",
   "execution_count": 70,
   "id": "a5b22119",
   "metadata": {},
   "outputs": [],
   "source": [
    "df_ie = pd.read_excel(\"c:\\Mariusz\\MyProjects\\HitMidKit_Downloader\\workbook\\HMK_Refresh_KPI.xlsm\",sheet_name=\"ItemExclusion\",\n",
    "                     usecols=['Option','Item Exclusion', 'Multi Overwirte']) #,'Grading Overwirte'"
   ]
  },
  {
   "cell_type": "code",
   "execution_count": 51,
   "id": "70ba8ec3",
   "metadata": {},
   "outputs": [],
   "source": [
    "#df_ie.fillna(0,inplace=True)"
   ]
  },
  {
   "cell_type": "code",
   "execution_count": 68,
   "id": "527a9b5b",
   "metadata": {},
   "outputs": [
    {
     "data": {
      "text/html": [
       "<div>\n",
       "<style scoped>\n",
       "    .dataframe tbody tr th:only-of-type {\n",
       "        vertical-align: middle;\n",
       "    }\n",
       "\n",
       "    .dataframe tbody tr th {\n",
       "        vertical-align: top;\n",
       "    }\n",
       "\n",
       "    .dataframe thead th {\n",
       "        text-align: right;\n",
       "    }\n",
       "</style>\n",
       "<table border=\"1\" class=\"dataframe\">\n",
       "  <thead>\n",
       "    <tr style=\"text-align: right;\">\n",
       "      <th></th>\n",
       "      <th>Option</th>\n",
       "      <th>Item Exclusion</th>\n",
       "      <th>Multi Overwirte</th>\n",
       "    </tr>\n",
       "  </thead>\n",
       "  <tbody>\n",
       "    <tr>\n",
       "      <th>4</th>\n",
       "      <td>303531 Multicolor 5</td>\n",
       "      <td>1.0</td>\n",
       "      <td>NaN</td>\n",
       "    </tr>\n",
       "    <tr>\n",
       "      <th>14</th>\n",
       "      <td>304094 Multicolor 5</td>\n",
       "      <td>NaN</td>\n",
       "      <td>0.0</td>\n",
       "    </tr>\n",
       "    <tr>\n",
       "      <th>15</th>\n",
       "      <td>304620 No colour</td>\n",
       "      <td>NaN</td>\n",
       "      <td>0.0</td>\n",
       "    </tr>\n",
       "    <tr>\n",
       "      <th>24</th>\n",
       "      <td>313856 Multicolor 5</td>\n",
       "      <td>NaN</td>\n",
       "      <td>0.0</td>\n",
       "    </tr>\n",
       "  </tbody>\n",
       "</table>\n",
       "</div>"
      ],
      "text/plain": [
       "                 Option  Item Exclusion  Multi Overwirte\n",
       "4   303531 Multicolor 5             1.0              NaN\n",
       "14  304094 Multicolor 5             NaN              0.0\n",
       "15     304620 No colour             NaN              0.0\n",
       "24  313856 Multicolor 5             NaN              0.0"
      ]
     },
     "execution_count": 68,
     "metadata": {},
     "output_type": "execute_result"
    }
   ],
   "source": [
    "#df_ie[(df_ie['Item Exclusion']>0)|(df_ie['Multi Overwirte']==0)] #df_ie.loc[df_ie.iloc[:,1:].sum(axis=1),('Option','Item Exclusion', 'Multi Overwirte')]"
   ]
  },
  {
   "cell_type": "code",
   "execution_count": 71,
   "id": "630c787c",
   "metadata": {},
   "outputs": [],
   "source": [
    "df = pd.merge(df_db,df_ie[['Option','Item Exclusion', 'Multi Overwirte']],on='Option',how='left')"
   ]
  },
  {
   "cell_type": "code",
   "execution_count": 72,
   "id": "4a49876c",
   "metadata": {},
   "outputs": [],
   "source": [
    "df['ItemExcl'] = np.where(df['Item Exclusion']==1,1,df['ItemExcl'])\n",
    "df['Multi'] = np.where(df['Multi Overwirte']==0,0,df['Multi'])"
   ]
  },
  {
   "cell_type": "code",
   "execution_count": 75,
   "id": "1bcb0e1a",
   "metadata": {},
   "outputs": [
    {
     "data": {
      "text/html": [
       "<div>\n",
       "<style scoped>\n",
       "    .dataframe tbody tr th:only-of-type {\n",
       "        vertical-align: middle;\n",
       "    }\n",
       "\n",
       "    .dataframe tbody tr th {\n",
       "        vertical-align: top;\n",
       "    }\n",
       "\n",
       "    .dataframe thead th {\n",
       "        text-align: right;\n",
       "    }\n",
       "</style>\n",
       "<table border=\"1\" class=\"dataframe\">\n",
       "  <thead>\n",
       "    <tr style=\"text-align: right;\">\n",
       "      <th></th>\n",
       "      <th>Option</th>\n",
       "      <th>SKU Store Grade</th>\n",
       "      <th>Sales Units</th>\n",
       "      <th>Sales Value</th>\n",
       "      <th>In-Stock Stores</th>\n",
       "      <th>In-Stock Stores in Period</th>\n",
       "      <th>In-Stock Stores in Period Promo</th>\n",
       "      <th>In-Stock Stores in Period Regular</th>\n",
       "      <th>Sales Units in Period</th>\n",
       "      <th>Sales Units in Period Promo</th>\n",
       "      <th>...</th>\n",
       "      <th>Final ROS_U</th>\n",
       "      <th>Final ROS_V</th>\n",
       "      <th>Promo_tv</th>\n",
       "      <th>Sell-Through In Period</th>\n",
       "      <th>Sell-Through</th>\n",
       "      <th>Markdown Value</th>\n",
       "      <th>MD_ratio</th>\n",
       "      <th>Effective Weeks</th>\n",
       "      <th>Weeks In Period</th>\n",
       "      <th>ItemExcl</th>\n",
       "    </tr>\n",
       "  </thead>\n",
       "  <tbody>\n",
       "    <tr>\n",
       "      <th>4</th>\n",
       "      <td>303531 Multicolor 5</td>\n",
       "      <td>1</td>\n",
       "      <td>45844.0</td>\n",
       "      <td>926873.6384</td>\n",
       "      <td>24851</td>\n",
       "      <td>27152.0</td>\n",
       "      <td>0.0</td>\n",
       "      <td>27152.0</td>\n",
       "      <td>45835.0</td>\n",
       "      <td>0.0</td>\n",
       "      <td>...</td>\n",
       "      <td>1.688089</td>\n",
       "      <td>34.131348</td>\n",
       "      <td>0</td>\n",
       "      <td>0.718766</td>\n",
       "      <td>0.718806</td>\n",
       "      <td>0</td>\n",
       "      <td>0.0</td>\n",
       "      <td>13</td>\n",
       "      <td>13</td>\n",
       "      <td>1</td>\n",
       "    </tr>\n",
       "  </tbody>\n",
       "</table>\n",
       "<p>1 rows × 42 columns</p>\n",
       "</div>"
      ],
      "text/plain": [
       "                Option  SKU Store Grade  Sales Units  Sales Value  \\\n",
       "4  303531 Multicolor 5                1      45844.0  926873.6384   \n",
       "\n",
       "   In-Stock Stores  In-Stock Stores in Period  \\\n",
       "4            24851                    27152.0   \n",
       "\n",
       "   In-Stock Stores in Period Promo  In-Stock Stores in Period Regular  \\\n",
       "4                              0.0                            27152.0   \n",
       "\n",
       "   Sales Units in Period  Sales Units in Period Promo  ...  Final ROS_U  \\\n",
       "4                45835.0                          0.0  ...     1.688089   \n",
       "\n",
       "   Final ROS_V  Promo_tv  Sell-Through In Period  Sell-Through  \\\n",
       "4    34.131348         0                0.718766      0.718806   \n",
       "\n",
       "   Markdown Value  MD_ratio  Effective Weeks  Weeks In Period  ItemExcl  \n",
       "4               0       0.0               13               13         1  \n",
       "\n",
       "[1 rows x 42 columns]"
      ]
     },
     "execution_count": 75,
     "metadata": {},
     "output_type": "execute_result"
    }
   ],
   "source": [
    "df[df.Option=='303531 Multicolor 5']"
   ]
  },
  {
   "cell_type": "code",
   "execution_count": 74,
   "id": "d5a22128",
   "metadata": {},
   "outputs": [],
   "source": [
    "df.drop(columns={'Item Exclusion', 'Multi Overwirte'},inplace=True)"
   ]
  }
 ],
 "metadata": {
  "kernelspec": {
   "display_name": "Python 3",
   "language": "python",
   "name": "python3"
  },
  "language_info": {
   "codemirror_mode": {
    "name": "ipython",
    "version": 3
   },
   "file_extension": ".py",
   "mimetype": "text/x-python",
   "name": "python",
   "nbconvert_exporter": "python",
   "pygments_lexer": "ipython3",
   "version": "3.8.8"
  }
 },
 "nbformat": 4,
 "nbformat_minor": 5
}
