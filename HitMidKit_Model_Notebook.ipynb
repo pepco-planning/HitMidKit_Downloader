{
 "cells": [
  {
   "cell_type": "markdown",
   "id": "0a679c5f",
   "metadata": {},
   "source": [
    "# Import Files"
   ]
  },
  {
   "cell_type": "code",
   "execution_count": null,
   "id": "d7ba50dc",
   "metadata": {},
   "outputs": [],
   "source": [
    "import pandas as pd\n",
    "import numpy as np\n",
    "import glob\n",
    "from HMK_Functions import *\n",
    "from daxQueries import *"
   ]
  },
  {
   "cell_type": "code",
   "execution_count": null,
   "id": "3f043e75",
   "metadata": {},
   "outputs": [],
   "source": [
    "# import os\n",
    "# from sys import path\n",
    "# path.append(os.getcwd() + '\\\\dll')\n",
    "# from pyadomd import Pyadomd"
   ]
  },
  {
   "cell_type": "code",
   "execution_count": null,
   "id": "1571d339",
   "metadata": {},
   "outputs": [],
   "source": [
    "check_option = '256064 Grey'"
   ]
  },
  {
   "cell_type": "code",
   "execution_count": null,
   "id": "1129aad4",
   "metadata": {},
   "outputs": [],
   "source": [
    "chosenHierarchy = '1.1.2.3'\n",
    "dep = 'c Ladies Basics'"
   ]
  },
  {
   "cell_type": "code",
   "execution_count": null,
   "id": "8cb644e3",
   "metadata": {},
   "outputs": [],
   "source": [
    "path_inventory = r\"c:\\Mariusz\\MyProjects\\HitMidKit_Downloader\\input data\\Analysis\\Inventory\"\n",
    "Inventory = pd.read_csv(path_inventory + '\\\\' + f'{chosenHierarchy}_HitMidKit.csv')"
   ]
  },
  {
   "cell_type": "code",
   "execution_count": null,
   "id": "d47c593f",
   "metadata": {},
   "outputs": [],
   "source": [
    "Parameters = pd.read_csv('parameters_HD.csv') # parameters plik powinien wyglądać inaczej"
   ]
  },
  {
   "cell_type": "code",
   "execution_count": null,
   "id": "7abef7c5",
   "metadata": {},
   "outputs": [],
   "source": [
    "# Create Variables\n",
    "param_list = ['chosenHierarchy','MinPar','MinStrStk','GradingType','StrCount','WeekExcl','MinTotSls','E_Duration','W_Duration','S_Duration']\n",
    "param_names = ['Hierarchy','Minimum Sales Units','MinStrStk','Grading Type','StrCount','WeekExcl','MinTotSls','E Merch Group Duration',\n",
    "              'W Merch Group Duration','S Merch Group Duration']\n",
    "param_values=list()\n",
    "\n",
    "for idx in range(len(param_list)):\n",
    "    param_value = Parameters[Parameters['Parameters']==param_names[idx]].iloc[:,1:].values[0][0]\n",
    "    param_values.append(param_value)\n",
    "\n",
    "variables=dict(zip(param_list, param_values))"
   ]
  },
  {
   "cell_type": "code",
   "execution_count": null,
   "id": "91ce47fd",
   "metadata": {},
   "outputs": [],
   "source": [
    "variables"
   ]
  },
  {
   "cell_type": "code",
   "execution_count": null,
   "id": "25734d2e",
   "metadata": {},
   "outputs": [],
   "source": [
    "# variable for DAX\n",
    "startWeek = 202227\n",
    "endWeek = 202239\n",
    "MinPar = variables['MinPar']"
   ]
  },
  {
   "cell_type": "code",
   "execution_count": null,
   "id": "e9aef1db",
   "metadata": {},
   "outputs": [],
   "source": [
    "eDur = int(variables['E_Duration'])\n",
    "wDur = int(variables['W_Duration'])\n",
    "sDur = int(variables['S_Duration'])"
   ]
  },
  {
   "cell_type": "code",
   "execution_count": null,
   "id": "1d2d93b8",
   "metadata": {},
   "outputs": [],
   "source": [
    "Grading = dataFrameFromTabular(grading(startWeek,endWeek,dep)) \n",
    "Md = dataFrameFromTabular(md(startWeek,endWeek,dep,MinPar))\n",
    "Pcal = dataFrameFromTabular(pcal(startWeek,endWeek,dep))\n",
    "Perf_dep = dataFrameFromTabular(perf_dep(startWeek,endWeek,dep))\n",
    "Plu_available = dataFrameFromTabular(plu_available(startWeek,endWeek,dep,MinPar))\n",
    "Prh = dataFrameFromTabular(prh(startWeek,endWeek,dep))\n",
    "Prh_data = dataFrameFromTabular(prh_data(startWeek,endWeek,dep))\n",
    "Promo_reg = dataFrameFromTabular(promo_reg(startWeek,endWeek,dep,MinPar))\n",
    "Promo_tv = dataFrameFromTabular(promo_tv(startWeek,endWeek,dep,MinPar))\n",
    "Sku_plu = dataFrameFromTabular(sku_plu(startWeek,endWeek,dep,MinPar))"
   ]
  },
  {
   "cell_type": "code",
   "execution_count": null,
   "id": "08886fc7",
   "metadata": {},
   "outputs": [],
   "source": [
    "Plu_available"
   ]
  },
  {
   "cell_type": "markdown",
   "id": "74f128fc",
   "metadata": {},
   "source": [
    "# Data Transformation"
   ]
  },
  {
   "cell_type": "code",
   "execution_count": null,
   "id": "3a6cb6fa",
   "metadata": {},
   "outputs": [],
   "source": [
    "# Changing column names. Remove Characters such as '[', ']'\n",
    "table_list = [Grading,Md,Pcal,Perf_dep,Plu_available,Prh,Prh_data,Promo_reg,Promo_tv,Sku_plu]\n",
    "\n",
    "for table in range(len(table_list)):\n",
    "    cols = changeColumnName(table_list[table].columns)\n",
    "    table_list[table].columns = cols "
   ]
  },
  {
   "cell_type": "code",
   "execution_count": null,
   "id": "a918597d",
   "metadata": {},
   "outputs": [],
   "source": [
    "# Adjust the Plu Available table\n",
    "Plu_available = pd.melt(Plu_available, id_vars=['SKU PLU', 'SKU Colour'], \n",
    "                        var_name='xtemp', value_name='Available')\n",
    "Plu_available['Available'] = np.where(Plu_available['Available']=='No',0,1)\n",
    "#Plu_available = Plu_available[Plu_available['Available']==1]\n",
    "Plu_available['STR Company'] = Plu_available['xtemp'].str[4:7]\n",
    "Plu_available.drop(columns=(['xtemp']),axis=1,inplace=True)"
   ]
  },
  {
   "cell_type": "code",
   "execution_count": null,
   "id": "82c3f47b",
   "metadata": {},
   "outputs": [],
   "source": [
    "Inventory['Multi'] = np.where((Inventory['SKU Colour'].str[:5]=='Multi'),1,0)"
   ]
  },
  {
   "cell_type": "code",
   "execution_count": null,
   "id": "927f065a",
   "metadata": {},
   "outputs": [],
   "source": [
    "Inventory['STR Number'] = Inventory['STR Number'].astype(int)\n",
    "Inventory['Pl Year'] = Inventory['Pl Year'].astype(int)"
   ]
  },
  {
   "cell_type": "code",
   "execution_count": null,
   "id": "d612c21c",
   "metadata": {},
   "outputs": [],
   "source": [
    "# Rename column\n",
    "Pcal.rename(columns={'PCAL_WEEK_KEY': 'Wk_Key'}, inplace=True)\n",
    "Promo_reg.rename(columns={'PCAL_WEEK_KEY': 'Wk_Key'}, inplace=True)\n",
    "\n",
    "# Create 'Option' column\n",
    "Promo_reg = createOption(Promo_reg)\n",
    "Sku_plu = createOption(Sku_plu)\n",
    "Plu_available = createOption(Plu_available)\n",
    "Inventory = createOption(Inventory)\n",
    "Promo_tv = createOption(Promo_tv)\n",
    "Md = createOption(Md)"
   ]
  },
  {
   "cell_type": "code",
   "execution_count": null,
   "id": "3f016778",
   "metadata": {},
   "outputs": [],
   "source": [
    "# Sometimes we have duplicates in SKU PLU (different initial price/margin). Keep the newest ones \n",
    "Sku_plu.drop(Sku_plu[Sku_plu.Option.duplicated(keep='first')].index, inplace = True)\n",
    "\n",
    "# Replace values to get just integer values: 0 if not [1,2,3]\n",
    "Sku_plu['SKU Store Grade'] = Sku_plu['SKU Store Grade'].apply(replace_grade)\n",
    "Sku_plu['SKU Store Grade'] = Sku_plu['SKU Store Grade'].astype(int)"
   ]
  },
  {
   "cell_type": "code",
   "execution_count": null,
   "id": "6e31393c",
   "metadata": {},
   "outputs": [],
   "source": [
    "Sku_plu['SKU Store Grade'].unique()"
   ]
  },
  {
   "cell_type": "code",
   "execution_count": null,
   "id": "fd0e124c",
   "metadata": {},
   "outputs": [],
   "source": [
    "WeekMin = Pcal['Wk_Key'].min()\n",
    "WeekMax = Pcal['Wk_Key'].max()"
   ]
  },
  {
   "cell_type": "markdown",
   "id": "45c5035d",
   "metadata": {},
   "source": [
    "# Calculations"
   ]
  },
  {
   "cell_type": "code",
   "execution_count": null,
   "id": "6bf46f8e",
   "metadata": {},
   "outputs": [],
   "source": [
    "Inventory.shape"
   ]
  },
  {
   "cell_type": "code",
   "execution_count": null,
   "id": "97a71b40",
   "metadata": {},
   "outputs": [],
   "source": [
    "showGrades(Parameters)"
   ]
  },
  {
   "cell_type": "code",
   "execution_count": null,
   "id": "7338d807",
   "metadata": {},
   "outputs": [],
   "source": [
    "calcGrading(Grading, Parameters, variables['GradingType'])[:2]"
   ]
  },
  {
   "cell_type": "code",
   "execution_count": null,
   "id": "74b662e6",
   "metadata": {},
   "outputs": [],
   "source": [
    "# Add weeks and gradings\n",
    "df_inv = addWeekKey(addCountry(Inventory, Grading, Parameters, variables['GradingType']), Pcal)"
   ]
  },
  {
   "cell_type": "code",
   "execution_count": null,
   "id": "6b59807a",
   "metadata": {},
   "outputs": [],
   "source": [
    "# STR Company & Grading for approx 40k PLU is empty\n",
    "df_inv.isnull().sum()"
   ]
  },
  {
   "cell_type": "code",
   "execution_count": null,
   "id": "5b72d395",
   "metadata": {},
   "outputs": [],
   "source": [
    "df_inv.shape"
   ]
  },
  {
   "cell_type": "markdown",
   "id": "4fbc1687",
   "metadata": {},
   "source": [
    "**Question**</p>\n",
    "Should the stores with no grades be taken into consideration?"
   ]
  },
  {
   "cell_type": "code",
   "execution_count": null,
   "id": "3846fc9d",
   "metadata": {},
   "outputs": [],
   "source": [
    "# Add \"Plu Available\" to the main table\n",
    "df_plu = Plu_available[['STR Company', 'Option', 'Available']].drop_duplicates()\n",
    "\n",
    "df_inv2 = pd.merge(df_inv, df_plu, on=['Option','STR Company'], how='left')\n",
    "\n",
    "df_inv2['Available'].fillna(0,inplace=True)\n",
    "df_inv2['Available'] = df_inv2['Available'].astype(int)\n",
    "\n",
    "df_inv2.Available.unique()"
   ]
  },
  {
   "cell_type": "code",
   "execution_count": null,
   "id": "eda88e60",
   "metadata": {},
   "outputs": [],
   "source": [
    "df_inv2.shape"
   ]
  },
  {
   "cell_type": "markdown",
   "id": "0a182b1a",
   "metadata": {},
   "source": [
    "**Question**</p>\n",
    "\n",
    "- How about not available PLU in stores (Available=0)? Should we use them or not?\n",
    "<p> Dostępność potrzebna do policzenia weekstart weekto \n",
    "\n",
    "- In Plu_available nie ma krajów PES i PAT\n",
    "<p> Dodaj w DAX"
   ]
  },
  {
   "cell_type": "code",
   "execution_count": null,
   "id": "72344ecb",
   "metadata": {},
   "outputs": [],
   "source": [
    "# Add \"Period Type\" column (Promo, Markdown, Regular)\n",
    "df_inv3 = showPromo(df_inv2, Promo_reg, Sku_plu)"
   ]
  },
  {
   "cell_type": "code",
   "execution_count": null,
   "id": "8941ba28",
   "metadata": {
    "scrolled": false
   },
   "outputs": [],
   "source": [
    "df_inv3.shape"
   ]
  },
  {
   "cell_type": "markdown",
   "id": "deef84b3",
   "metadata": {},
   "source": [
    "**Question**</p>\n",
    "Do we need values downloaded for promo products (\"Promo_reg\")?"
   ]
  },
  {
   "cell_type": "code",
   "execution_count": null,
   "id": "39c7838d",
   "metadata": {},
   "outputs": [],
   "source": [
    "# Calculate InStock and MinInStock\n",
    "# InStock [In-Stock Stores] potrzebny do policzenia week start, \n",
    "# InStockX [In-Stock Stores in Period] do wykluczenia z wybranych tyg najgorszych sklepów\n",
    "\n",
    "print(f\"Minimum Closing Stock Target is: {variables['MinStrStk']}\")\n",
    "df_inv3['InStock'] = np.where(((df_inv3['SalesU']>0)|(df_inv3['CSOHU']>int(variables['MinStrStk']))),1,0) \n",
    "df_inv3['MinInStock'] = np.where(((df_inv3['SalesU']>0)|(df_inv3['CSOHU']>0)),1,0)"
   ]
  },
  {
   "cell_type": "code",
   "execution_count": null,
   "id": "b03d1e0c",
   "metadata": {},
   "outputs": [],
   "source": [
    "# Fill Store Grade with zeros (NaN to 0) and set the data type into integer\n",
    "df_inv3['StoreGrade'].fillna(0,inplace=True)\n",
    "df_inv3['StoreGrade'] = df_inv3['StoreGrade'].astype(int)"
   ]
  },
  {
   "cell_type": "markdown",
   "id": "6cee8197",
   "metadata": {},
   "source": [
    "**Question**\n",
    "\n",
    "- Should we fill NaN values in StoreGrade column?\n",
    "- How to treat stores with Grade=0. Should we calculate for the only \"Total Sales\", \"InStock/MinInStock\"? <p>Currently, InStock does not calculate for Grade = 0 but the MinInStock does. Is it proper approach?"
   ]
  },
  {
   "cell_type": "code",
   "execution_count": null,
   "id": "11a8f166",
   "metadata": {},
   "outputs": [],
   "source": [
    "Sku_plu['SKU Store Grade'].unique()"
   ]
  },
  {
   "cell_type": "code",
   "execution_count": null,
   "id": "a5ff0a02",
   "metadata": {},
   "outputs": [],
   "source": [
    "# Calculate amount of stores per grade for each PLU\n",
    "df_gs = GradeStores(Plu_available,Sku_plu,Parameters,Grading,variables['GradingType']) \\\n",
    ".groupby('Option')['GradeStores'].sum().reset_index()"
   ]
  },
  {
   "cell_type": "code",
   "execution_count": null,
   "id": "0ae3c9d0",
   "metadata": {},
   "outputs": [],
   "source": [
    "# Add Grade Stores into the main table \n",
    "df4 = pd.merge(df_inv3,df_gs,on='Option',how='left')\n",
    "\n",
    "df4['MinStores'] = (df4['GradeStores'] * float(variables['StrCount'])).round(2) # not less than 60% of total stores\n",
    "df4['MinStoresX'] = (df4['GradeStores'] * float(variables['WeekExcl'])).round(2) # not less than 35% of total stores"
   ]
  },
  {
   "cell_type": "code",
   "execution_count": null,
   "id": "73941cbc",
   "metadata": {},
   "outputs": [],
   "source": [
    "# Add 'SKU Store Grade' to the main table\n",
    "df_temp = Sku_plu[['Option','SKU Store Grade']]\n",
    "df4 = pd.merge(df4, df_temp, on='Option', how='left')\n",
    "#df4['SKU Store Grade'] = df4['SKU Store Grade'].astype(int)\n",
    "\n",
    "del df_temp"
   ]
  },
  {
   "cell_type": "markdown",
   "id": "8ce041b6",
   "metadata": {},
   "source": [
    "**Question**</p>How to merge df4 with sf_temp? inner or left join?"
   ]
  },
  {
   "cell_type": "code",
   "execution_count": null,
   "id": "e3dd596c",
   "metadata": {},
   "outputs": [],
   "source": [
    "# Add Item Exclusion column (0 as default which means do not exclude the PLU)\n",
    "df4['ItemExcl'] = 0"
   ]
  },
  {
   "cell_type": "code",
   "execution_count": null,
   "id": "37143a65",
   "metadata": {},
   "outputs": [],
   "source": [
    "print(f\"Total #records in 'Inventory' table: {Inventory.shape[0]}\\nTotal #records in 'Current' table: {df4.shape[0]}\\nDifference between the tables (#records): {Inventory.shape[0]-df4.shape[0]}\")"
   ]
  },
  {
   "cell_type": "code",
   "execution_count": null,
   "id": "1be26107",
   "metadata": {
    "scrolled": false
   },
   "outputs": [],
   "source": [
    "pd.set_option('display.max_columns',None)\n",
    "df4.head()"
   ]
  },
  {
   "cell_type": "code",
   "execution_count": null,
   "id": "346826fd",
   "metadata": {},
   "outputs": [],
   "source": [
    "df4.PeriodType.unique()"
   ]
  },
  {
   "cell_type": "code",
   "execution_count": null,
   "id": "ce17cf1b",
   "metadata": {},
   "outputs": [],
   "source": [
    "df4.Available.unique()"
   ]
  },
  {
   "cell_type": "code",
   "execution_count": null,
   "id": "cda731d9",
   "metadata": {},
   "outputs": [],
   "source": [
    "df4.StoreGrade.unique()"
   ]
  },
  {
   "cell_type": "code",
   "execution_count": null,
   "id": "0bbc3d55",
   "metadata": {
    "scrolled": true
   },
   "outputs": [],
   "source": [
    "df4.isnull().sum()"
   ]
  },
  {
   "cell_type": "code",
   "execution_count": null,
   "id": "12830122",
   "metadata": {},
   "outputs": [],
   "source": [
    "print(f\"Amount of missing records caused by missing stores in 'Grading.csv' file: {df4[df4.StoreGrade==0].count()[0]}.\\nMissing amount of stores in the 'Grading.csv' file: {len(df4[df4.StoreGrade==0]['STR Number'].unique())}\")"
   ]
  },
  {
   "cell_type": "code",
   "execution_count": null,
   "id": "7591b545",
   "metadata": {},
   "outputs": [],
   "source": [
    "df4[df4.GradeStores.isnull()].Available.unique()"
   ]
  },
  {
   "cell_type": "code",
   "execution_count": null,
   "id": "81172828",
   "metadata": {},
   "outputs": [],
   "source": [
    "df4[df4.Available==1].isnull().sum()"
   ]
  },
  {
   "cell_type": "code",
   "execution_count": null,
   "id": "d328d5fa",
   "metadata": {},
   "outputs": [],
   "source": [
    "df4[df4.Option==check_option]"
   ]
  },
  {
   "cell_type": "code",
   "execution_count": null,
   "id": "ca0985d7",
   "metadata": {},
   "outputs": [],
   "source": [
    "df4.shape"
   ]
  },
  {
   "cell_type": "code",
   "execution_count": null,
   "id": "1c20fb83",
   "metadata": {},
   "outputs": [],
   "source": [
    "df4 = weeksCalc(df4, Sku_plu,WeekMin,WeekMax,eDur,wDur,sDur)"
   ]
  },
  {
   "cell_type": "code",
   "execution_count": null,
   "id": "5c3decfe",
   "metadata": {},
   "outputs": [],
   "source": [
    "df4.shape"
   ]
  },
  {
   "cell_type": "code",
   "execution_count": null,
   "id": "2dfe06ad",
   "metadata": {},
   "outputs": [],
   "source": [
    "df4.head()"
   ]
  },
  {
   "cell_type": "markdown",
   "id": "049d15b3",
   "metadata": {},
   "source": [
    "# Aggregation - Option level"
   ]
  },
  {
   "cell_type": "code",
   "execution_count": null,
   "id": "06f813ed",
   "metadata": {},
   "outputs": [],
   "source": [
    "df6 = InventoryAggregation(df4, Sku_plu, WeekMin, WeekMax, eDur, wDur, sDur)"
   ]
  },
  {
   "cell_type": "code",
   "execution_count": null,
   "id": "2743c5af",
   "metadata": {},
   "outputs": [],
   "source": [
    "df6[df6.Option==check_option]"
   ]
  },
  {
   "cell_type": "markdown",
   "id": "2265f8ab",
   "metadata": {},
   "source": [
    "**Question**</p>The ratios I have calculated here are different than in the Excel Model. Why?"
   ]
  },
  {
   "cell_type": "code",
   "execution_count": null,
   "id": "21a31704",
   "metadata": {},
   "outputs": [],
   "source": [
    "var_MinTotSls = int(variables['MinTotSls'])\n",
    "avgROS, avgROS_Ratio = grade_multiEquivalentU(df4, Sku_plu, var_MinTotSls)\n",
    "\n",
    "print(f\"ROS ratio for grade 2: {round(avgROS_Ratio['2'][0],3)}\\nROS ratio for grade 3: {round(avgROS_Ratio['3'][0],3)}\")"
   ]
  },
  {
   "cell_type": "code",
   "execution_count": null,
   "id": "0b32fdc8",
   "metadata": {},
   "outputs": [],
   "source": [
    "var_MinTotSls = int(variables['MinTotSls'])\n",
    "avgROSV, avgROS_RatioV = grade_multiEquivalentV(df4, Sku_plu, var_MinTotSls)\n",
    "\n",
    "print(f\"ROS ratio for grade 2: {round(avgROS_RatioV['2'][0],3)}\\nROS ratio for grade 3: {round(avgROS_RatioV['3'][0],3)}\")"
   ]
  },
  {
   "cell_type": "code",
   "execution_count": null,
   "id": "a80d776d",
   "metadata": {},
   "outputs": [],
   "source": [
    "avgROS"
   ]
  },
  {
   "cell_type": "code",
   "execution_count": null,
   "id": "4b33a06f",
   "metadata": {},
   "outputs": [],
   "source": [
    "avgROSV"
   ]
  },
  {
   "cell_type": "code",
   "execution_count": null,
   "id": "795626ae",
   "metadata": {},
   "outputs": [],
   "source": [
    "var_MinTotSls"
   ]
  },
  {
   "cell_type": "code",
   "execution_count": null,
   "id": "b0d010e8",
   "metadata": {},
   "outputs": [],
   "source": [
    "df_sellThru = avgSellThru(df4,Sku_plu,WeekMin,WeekMax,eDur,wDur,sDur)"
   ]
  },
  {
   "cell_type": "code",
   "execution_count": null,
   "id": "27048ce9",
   "metadata": {},
   "outputs": [],
   "source": [
    "df6 = pd.merge(df6, df_sellThru, on=['Option','SKU Store Grade'], how='left')"
   ]
  },
  {
   "cell_type": "code",
   "execution_count": null,
   "id": "6b2cb2b7",
   "metadata": {},
   "outputs": [],
   "source": [
    "df6.shape"
   ]
  },
  {
   "cell_type": "code",
   "execution_count": null,
   "id": "223d88c6",
   "metadata": {},
   "outputs": [],
   "source": [
    "df6[df6.Option==check_option]"
   ]
  },
  {
   "cell_type": "markdown",
   "id": "f1e03ab6",
   "metadata": {},
   "source": [
    "# Finalization ROS"
   ]
  },
  {
   "cell_type": "markdown",
   "id": "77df3590",
   "metadata": {},
   "source": [
    "Tu popraw avgROS_RatioV dla units na avgROS_Ratio. W Excel Modelu jest błąd.\n",
    "\n",
    "SKU PLU: ROS_AllStoreEquivalentu_PrAdj - MIN(Grades[RatioV]) zamień na MIN(Grades[Ratio])"
   ]
  },
  {
   "cell_type": "code",
   "execution_count": null,
   "id": "71626845",
   "metadata": {},
   "outputs": [],
   "source": [
    "df6['Final ROS_U'] = np.where(df6['SKU Store Grade']==2,\n",
    "                               df6['Promo Adjusted ROS'] / avgROS_RatioV['2'][0],\n",
    "                               np.where(df6['SKU Store Grade']==3,\n",
    "                                       df6['Promo Adjusted ROS'] / avgROS_RatioV['3'][0],\n",
    "                                       df6['Promo Adjusted ROS']))\n",
    "\n",
    "df6['Final ROS_V'] = np.where(df6['SKU Store Grade']==2,\n",
    "                               df6['Promo Adjusted ROS V'] / avgROS_RatioV['2'][0],\n",
    "                               np.where(df6['SKU Store Grade']==3,\n",
    "                                       df6['Promo Adjusted ROS V'] / avgROS_RatioV['3'][0],\n",
    "                                       df6['Promo Adjusted ROS V']))"
   ]
  },
  {
   "cell_type": "code",
   "execution_count": null,
   "id": "4a24dd37",
   "metadata": {},
   "outputs": [],
   "source": [
    "#df6[df6.Option==check_option]\n",
    "df6[df6.Option=='303131 beige melange']"
   ]
  },
  {
   "cell_type": "markdown",
   "id": "f0a683df",
   "metadata": {},
   "source": [
    "# Excluding Promo TV"
   ]
  },
  {
   "cell_type": "code",
   "execution_count": null,
   "id": "237e47e6",
   "metadata": {},
   "outputs": [],
   "source": [
    "Promo_tv['Promo_tv'] = 1\n",
    "Promo_tv = Promo_tv[['Option','Promo_tv']].drop_duplicates()"
   ]
  },
  {
   "cell_type": "code",
   "execution_count": null,
   "id": "0455078c",
   "metadata": {},
   "outputs": [],
   "source": [
    "Promo_tv.head()"
   ]
  },
  {
   "cell_type": "code",
   "execution_count": null,
   "id": "88e685df",
   "metadata": {},
   "outputs": [],
   "source": [
    "df6.shape"
   ]
  },
  {
   "cell_type": "code",
   "execution_count": null,
   "id": "678ee916",
   "metadata": {},
   "outputs": [],
   "source": [
    "df7 = pd.merge(df6, Promo_tv, on='Option', how='left')\n",
    "df7['Promo_tv'].fillna(0,inplace=True)\n",
    "df7['Promo_tv'] = df7['Promo_tv'].astype(int)"
   ]
  },
  {
   "cell_type": "code",
   "execution_count": null,
   "id": "6d508f35",
   "metadata": {},
   "outputs": [],
   "source": [
    "df7.shape"
   ]
  },
  {
   "cell_type": "markdown",
   "id": "05788e7d",
   "metadata": {},
   "source": [
    "# Sell-Through"
   ]
  },
  {
   "cell_type": "code",
   "execution_count": null,
   "id": "c64a2d08",
   "metadata": {},
   "outputs": [],
   "source": [
    "df7['Sell-Through In Period'] = df7['Sales Units in Period'] / (df7['Sales Units in Period'] + df7['Stock Units in Period'])"
   ]
  },
  {
   "cell_type": "code",
   "execution_count": null,
   "id": "2c49ef2f",
   "metadata": {},
   "outputs": [],
   "source": [
    "df7['Sell-Through'] = df7['Sales Units'] / (df7['Sales Units'] + df7['Stock Units in Period'])"
   ]
  },
  {
   "cell_type": "code",
   "execution_count": null,
   "id": "62bdcbb3",
   "metadata": {},
   "outputs": [],
   "source": [
    "df7.shape"
   ]
  },
  {
   "cell_type": "code",
   "execution_count": null,
   "id": "b70d6f43",
   "metadata": {},
   "outputs": [],
   "source": [
    "df7[df7.Option==check_option]"
   ]
  },
  {
   "cell_type": "markdown",
   "id": "ddf64f8c",
   "metadata": {},
   "source": [
    "# Markdowns"
   ]
  },
  {
   "cell_type": "markdown",
   "id": "7fa0dbd5",
   "metadata": {},
   "source": [
    "Czy to normalne że PeriodType != Markdown ale Markdown Retail Report > 0??"
   ]
  },
  {
   "cell_type": "code",
   "execution_count": null,
   "id": "0f27a96f",
   "metadata": {},
   "outputs": [],
   "source": [
    "Md['Markdown Value'] = -Md['Markdown Retail Report']"
   ]
  },
  {
   "cell_type": "code",
   "execution_count": null,
   "id": "5691f120",
   "metadata": {},
   "outputs": [],
   "source": [
    "df8 = pd.merge(df7, Md[['Option','Markdown Value']], on='Option', how='left')\n",
    "df8['Markdown Value'].fillna(0,inplace=True)\n",
    "df8['Markdown Value'] = df8['Markdown Value'].astype(int)"
   ]
  },
  {
   "cell_type": "code",
   "execution_count": null,
   "id": "9b71c259",
   "metadata": {},
   "outputs": [],
   "source": [
    "df8['MD_ratio'] = np.where(df8['Markdown Value']>0,\n",
    "                         np.where(df8['Sales Value']>0,\n",
    "                                 df8['Markdown Value'] / df8['Sales Value'],\n",
    "                                 1),0)"
   ]
  },
  {
   "cell_type": "code",
   "execution_count": null,
   "id": "9fb9491f",
   "metadata": {},
   "outputs": [],
   "source": [
    "df8[df8.Option=='326681 Dk beige 016-73-12']"
   ]
  },
  {
   "cell_type": "code",
   "execution_count": null,
   "id": "c9d27e12",
   "metadata": {},
   "outputs": [],
   "source": [
    "print(f\"Minimum Markdown value: {df8.MD_ratio.min()*100}%\\nMaximum Markdown value: {round(df8.MD_ratio.max()*100,2)}%\")"
   ]
  },
  {
   "cell_type": "code",
   "execution_count": null,
   "id": "49587bfd",
   "metadata": {},
   "outputs": [],
   "source": [
    "df_effectiveWeeks = effectiveWeeks(df4)"
   ]
  },
  {
   "cell_type": "code",
   "execution_count": null,
   "id": "bb7b7eaf",
   "metadata": {},
   "outputs": [],
   "source": [
    "df8 = pd.merge(df8,df_effectiveWeeks,on='Option',how='left')\n",
    "df8['Effective Weeks'].fillna(0,inplace=True)\n",
    "df8['Effective Weeks'] = df8['Effective Weeks'].astype(int)"
   ]
  },
  {
   "cell_type": "code",
   "execution_count": null,
   "id": "6c9fb64f",
   "metadata": {},
   "outputs": [],
   "source": [
    "df8['Weeks In Period'] = (df8['Week End'] - df8['Week Start']) + 1"
   ]
  },
  {
   "cell_type": "code",
   "execution_count": null,
   "id": "36dcd24f",
   "metadata": {},
   "outputs": [],
   "source": [
    "\"\"\"\n",
    "=IF(LOOKUPVALUE(ItemExcl[Item EXCLUSION],ItemExcl[Option],'SKU PLU'[Option])=\"1\",1,\n",
    "IF(AND('SKU PLU'[WeekFrom]=0,'SKU PLU'[WeekTo]=0),2,\n",
    "IF(LOOKUPVALUE(PromoTV[PromoType],PromoTV[Option],[Option])=\"TV\",3,\n",
    "IF([Effective Weeks]<=0.4*'SKU PLU'[Weeks In Period],4,0))))\n",
    "\"\"\"\n",
    "df8['ItemExcl'] = np.where(((df8['Week Start']==0)&(df8['Week End']==0)),2,\n",
    "                           np.where(df8['Promo_tv']==1,3,\n",
    "                                    np.where(df8['Effective Weeks']<=(0.4*df8['Weeks In Period']),4,0)))"
   ]
  },
  {
   "cell_type": "code",
   "execution_count": null,
   "id": "49939fba",
   "metadata": {},
   "outputs": [],
   "source": [
    "df8[df8.Option=='331002 Gold']"
   ]
  },
  {
   "cell_type": "markdown",
   "id": "e9070c05",
   "metadata": {},
   "source": [
    "# Table to compare"
   ]
  },
  {
   "cell_type": "code",
   "execution_count": null,
   "id": "ea3d25ec",
   "metadata": {},
   "outputs": [],
   "source": [
    "cols_inv = ['Option', 'SKU Store Grade', 'Sales Units', 'Sales Value','Sales Units in Period',\n",
    "            'Sales Units in Period Promo','Sales Units in Period Regular','Sales Value in Period',\n",
    "            'Sales Value in Period Promo', 'Sales Value in Period Regular','Stock Units in Period', \n",
    "            'GradeStores', 'Week Start', 'Week End', 'Promo Start', 'Promo End','% Total Sales Value',\n",
    "            '% Total Sales Units', 'ROS_ProdGrade', 'ROS_ProdGradeV','Promo Adjusted ROS','Promo Adjusted ROS V',\n",
    "            'Final ROS_U', 'Final ROS_V','Sell-Through', 'Sell-Through In Period', 'Avg Sell-Through In Period', \n",
    "            'Markdown Value','MD_ratio','Multi','ItemExcl','NonPromo ROS', 'Promo ROS'] #, 'ItemExcl'\n",
    "   \n",
    "cols_sku = ['SKU Sub Department','SKU Category','SKU Merch Type','SKU Name',\n",
    "            'SKU PPL Initial Retail Price','Sales Margin','Option', 'VAT']\n",
    "\n",
    "\n",
    "\n",
    "df_final = pd.merge(df8[cols_inv],Sku_plu[cols_sku],on='Option', how='inner')"
   ]
  },
  {
   "cell_type": "code",
   "execution_count": null,
   "id": "debdde10",
   "metadata": {},
   "outputs": [],
   "source": [
    "df_final['ROS Margin Value'] = df_final['Final ROS_V'] / df_final['VAT'] * df_final['Sales Margin']"
   ]
  },
  {
   "cell_type": "code",
   "execution_count": null,
   "id": "6931c4f3",
   "metadata": {},
   "outputs": [],
   "source": [
    "df_final.shape"
   ]
  },
  {
   "cell_type": "code",
   "execution_count": null,
   "id": "2b19ba62",
   "metadata": {},
   "outputs": [],
   "source": [
    "df_final[df_final['Markdown Value']>0]"
   ]
  },
  {
   "cell_type": "code",
   "execution_count": null,
   "id": "2828b195",
   "metadata": {
    "scrolled": true
   },
   "outputs": [],
   "source": [
    "df_final[df_final.Option=='326676 White']"
   ]
  },
  {
   "cell_type": "markdown",
   "id": "179fb6dc",
   "metadata": {},
   "source": [
    "# Scoring"
   ]
  },
  {
   "cell_type": "markdown",
   "id": "d12182cf",
   "metadata": {},
   "source": [
    "**Question**\n",
    "\n",
    "How to calculate the scoring part? First variable in sub dep (for ROS) and dep (for md/sell-thru). But what if in a Sub dept we have just 3 PLU? Once it is category A we should treat the PLU like \"A\", even though in other depts we have much better ROS?\n",
    "\n",
    "- Which total column should I use (Perf_dep (excl Merch Groups), Invenory, df_final)? \n",
    "- How about MD/Sell-Through? Should I summarize the values first and categorize in dept level?\n",
    "- How it is possible tha j Sports Sub Dept has totally different Sales value in Perf_dep and in Inventory?"
   ]
  },
  {
   "cell_type": "code",
   "execution_count": null,
   "id": "5b8d908d",
   "metadata": {},
   "outputs": [],
   "source": [
    "df_perf, ST_Tier_1, ST_Tier_2, MD_Tier1, MD_Tier2 = calcPerf(Perf_dep,chosenHierarchy)"
   ]
  },
  {
   "cell_type": "code",
   "execution_count": null,
   "id": "20f0ec71",
   "metadata": {},
   "outputs": [],
   "source": [
    "#'Markdown Value', 'MD_ratio'\n",
    "score_cols = ['Option','SKU Merch Type','ItemExcl','Sales Value','Final ROS_V', 'ROS Margin Value', 'Avg Sell-Through In Period',\n",
    "              'Markdown Value','SKU Sub Department', 'SKU Category'] \n",
    "df_score1 = df_final[score_cols]"
   ]
  },
  {
   "cell_type": "code",
   "execution_count": null,
   "id": "78fdb183",
   "metadata": {
    "scrolled": true
   },
   "outputs": [],
   "source": [
    "df_score1.shape"
   ]
  },
  {
   "cell_type": "code",
   "execution_count": null,
   "id": "e7b4691b",
   "metadata": {},
   "outputs": [],
   "source": [
    "df_perf[:2]"
   ]
  },
  {
   "cell_type": "code",
   "execution_count": null,
   "id": "66b90557",
   "metadata": {},
   "outputs": [],
   "source": [
    "# division 2: Non Clothing\n",
    "if chosenHierarchy[2] == '2':\n",
    "    df_score1 = pd.merge(df_score1, df_perf[['SKU Sub Department','Tier1','Tier2','Tier3']], on='SKU Sub Department', how='inner')\n",
    "else:\n",
    "    df_score1 = pd.merge(df_score1, df_perf[['SKU Sub Department','SlsTier1','SlsTier2']], on='SKU Sub Department', how='inner')"
   ]
  },
  {
   "cell_type": "code",
   "execution_count": null,
   "id": "f8ee54e1",
   "metadata": {},
   "outputs": [],
   "source": [
    "df_score1['MerchGroup'] = np.where(df_score1['SKU Merch Type']!='Y',\"NonY\",\"Y\")\n",
    "df_score1['ItemCountDep'] = df_score1[df_score1.ItemExcl==0]['Option'].groupby(df_score1['SKU Sub Department']).transform('count')\n",
    "df_score1['ItemCountMer'] = df_score1[df_score1.ItemExcl==0]['Option'].groupby(df_score1['MerchGroup']).transform('count')"
   ]
  },
  {
   "cell_type": "code",
   "execution_count": null,
   "id": "698ea173",
   "metadata": {},
   "outputs": [],
   "source": [
    "df_score1[df_score1.Option=='327988 Black']"
   ]
  },
  {
   "cell_type": "markdown",
   "id": "257189d1",
   "metadata": {},
   "source": [
    "## Scoring"
   ]
  },
  {
   "cell_type": "code",
   "execution_count": null,
   "id": "4bf984b8",
   "metadata": {},
   "outputs": [],
   "source": [
    "ros_list = ['Final ROS_V','ROS Value','ROS Score']\n",
    "margin_list = ['ROS Margin Value','Margin Value','Margin Score']\n",
    "\n",
    "ros_list[2]\n",
    "df_ros = calcScoringROS(ros_list[0],ros_list[1],ros_list[2],df_score1,chosenHierarchy)\n",
    "df_margin = calcScoringROS(margin_list[0],margin_list[1],margin_list[2],df_score1,chosenHierarchy)\n",
    "df_st = calcScoringSellThru(df_score1,ST_Tier_1,ST_Tier_2)\n",
    "df_md = calcScoringMD(df_score1,MD_Tier1,MD_Tier2)"
   ]
  },
  {
   "cell_type": "code",
   "execution_count": null,
   "id": "4e6908f3",
   "metadata": {},
   "outputs": [],
   "source": [
    "df_score2 = pd.merge(df_score1,df_ros,on='Option',how='left')\n",
    "df_score2 = pd.merge(df_score2,df_st,on='Option',how='left')\n",
    "df_score2 = pd.merge(df_score2,df_margin,on='Option',how='left')\n",
    "df_score2 = pd.merge(df_score2,df_md,on='Option',how='left')"
   ]
  },
  {
   "cell_type": "code",
   "execution_count": null,
   "id": "b7bc2c84",
   "metadata": {},
   "outputs": [],
   "source": [
    "df_score2['MD_SLS'].fillna(0,inplace=True)\n",
    "df_score2['MD Score'] = np.where(df_score2['MD_SLS']==0,1,df_score2['MD Score'])"
   ]
  },
  {
   "cell_type": "code",
   "execution_count": null,
   "id": "cad63782",
   "metadata": {},
   "outputs": [],
   "source": [
    "if chosenHierarchy[2] == '2':\n",
    "    df_score2['TOTAL SCORE'] = df_score2['ROS Score'] + df_score2['Margin Score'] + \\\n",
    "    np.where(df_score2['SKU Merch Type']==\"Y\",0,df_score2['ST Score'])\n",
    "    \n",
    "    df_score2['HIT / KIT / MID'] = np.where((df_score2['SKU Merch Type']==\"Y\")&(df_score2['TOTAL SCORE']>=2.5),\"01_HIT\",\n",
    "                                       np.where(df_score2['TOTAL SCORE']>=3,\"01_HIT\",\n",
    "                                               np.where(df_score2['TOTAL SCORE']>=1.5,\"02_MID\",\"03_KIT\")))\n",
    "else:\n",
    "    df_score2['TOTAL SCORE'] = df_score2['ROS Score'] + df_score2['MD Score'] + df_score2['ST Score']\n",
    "    \n",
    "    df_score2['HIT / KIT / MID'] = np.where(df_score2['TOTAL SCORE']>2,\"01_HIT\",\n",
    "                                            np.where(df_score2['TOTAL SCORE']>1,\"02_MID\",\"03_KIT\"))"
   ]
  },
  {
   "cell_type": "code",
   "execution_count": null,
   "id": "a59d2fb1",
   "metadata": {},
   "outputs": [],
   "source": [
    "if chosenHierarchy[2] == '2':\n",
    "    cols = ['Option','ROS Score','ST Score','Margin Score','TOTAL SCORE','HIT / KIT / MID']\n",
    "else:\n",
    "    cols = ['Option','ROS Score','ST Score','MD Score','MD_SLS','TOTAL SCORE','HIT / KIT / MID']\n",
    "    \n",
    "df_final = pd.merge(df_final, df_score2[cols], on='Option', how='inner')"
   ]
  },
  {
   "cell_type": "code",
   "execution_count": null,
   "id": "4ce579db",
   "metadata": {},
   "outputs": [],
   "source": [
    "df_final.columns"
   ]
  },
  {
   "cell_type": "code",
   "execution_count": null,
   "id": "88379c15",
   "metadata": {},
   "outputs": [],
   "source": [
    "# Change the name in the code above in a free time\n",
    "df_final.rename(columns={'SKU Sub Department':'Sub Department','SKU Category':'Category','Final ROS_U':'ROS FINAL',\n",
    "                         'Final ROS_V':'ROS Value FINAL','SKU PPL Initial Retail Price':'Initial Price',\n",
    "                         'SKU Store Grade':'Grade','Sales Margin':'Sales Margin %','Avg Sell-Through In Period':'Sell-Through in Period',\n",
    "                         'Sales Value in Period Promo':'Promo Sales Value in Period','ROS_ProdGrade':'RAW ROS (excludes MD)',\n",
    "                         'Sales Units in Period Promo':'Promo Sales Units in Period', 'Margin Score':'ROS Margin Score',\n",
    "                         'ROS_ProdGradeV':'RAW ROS Value (excludes MD)','Promo Adjusted ROS V':'Promo Adjusted ROS Value',\n",
    "                         'Stock Units in Period':'Closing Stock Units','ST Score':'Sell-Through Score','MD_SLS':'MD % SLS',\n",
    "                        'Markdown Value':'MD Retail'}, \n",
    "           inplace = True)"
   ]
  },
  {
   "cell_type": "code",
   "execution_count": null,
   "id": "b7b4c4cf",
   "metadata": {},
   "outputs": [],
   "source": [
    "hardline_cols = ['Sub Department','Category','Option','SKU Name','Multi','SKU Merch Type','Initial Price','Grade',\n",
    "                     'Sales Margin %','Promo Start','Promo End','Week Start','Week End','Sales Value','Sales Units',\n",
    "                     'Sales Value in Period','Sales Units in Period','% Total Sales Value','% Total Sales Units',\n",
    "                     'Promo Sales Value in Period','Promo Sales Units in Period','RAW ROS (excludes MD)','NonPromo ROS',\n",
    "                     'Promo ROS','Promo Adjusted ROS','ROS FINAL','RAW ROS Value (excludes MD)','Promo Adjusted ROS Value',\n",
    "                     'ROS Value FINAL','ROS Score','ROS Margin Value','ROS Margin Score','Closing Stock Units',\n",
    "                     'Sell-Through in Period','Sell-Through Score','TOTAL SCORE','HIT / KIT / MID','ItemExcl']\n",
    "clothing_cols = ['Sub Department','Category','Option','SKU Name','Multi','Initial Price','Grade',\n",
    "                     'Sales Margin %','Promo Start','Promo End','Week Start','Week End','Sales Value','Sales Units',\n",
    "                     'Sales Value in Period','Sales Units in Period','% Total Sales Value','% Total Sales Units',\n",
    "                     'Promo Sales Value in Period','Promo Sales Units in Period','RAW ROS (excludes MD)','NonPromo ROS',\n",
    "                     'Promo ROS','Promo Adjusted ROS','ROS FINAL','RAW ROS Value (excludes MD)','Promo Adjusted ROS Value',\n",
    "                     'ROS Value FINAL','ROS Score','Closing Stock Units','Sell-Through in Period','Sell-Through Score',\n",
    "                     'MD Retail','MD % SLS','MD Score','TOTAL SCORE','HIT / KIT / MID','ItemExcl']"
   ]
  },
  {
   "cell_type": "code",
   "execution_count": null,
   "id": "89ae2a32",
   "metadata": {},
   "outputs": [],
   "source": [
    "if chosenHierarchy[2] == '2':\n",
    "    df_final = df_final[hardline_cols]\n",
    "else:\n",
    "    df_final = df_final[clothing_cols]"
   ]
  },
  {
   "cell_type": "code",
   "execution_count": null,
   "id": "9114c999",
   "metadata": {},
   "outputs": [],
   "source": [
    "#df_final[(df_final['Sub Department']=='e Baskets and Boxes')&(df_final.ItemExcl==0)]['Option'].count()"
   ]
  },
  {
   "cell_type": "code",
   "execution_count": null,
   "id": "afc21916",
   "metadata": {},
   "outputs": [],
   "source": [
    "#df_final.to_excel(f\"Analysis/HMK_\"+str(chosenHierarchy)+\"_0413.xlsx\",index=False)"
   ]
  },
  {
   "cell_type": "markdown",
   "id": "4328d2d5",
   "metadata": {},
   "source": [
    "___"
   ]
  },
  {
   "cell_type": "markdown",
   "id": "34d11b24",
   "metadata": {},
   "source": [
    "**Question**\n",
    "\n",
    "Do we need units in promo_reg file? Why the values there are not equal with Inventory (Likely answer: \"promo\" shows sales only for promo products while in \"Inventory\" table just a part of the sales shows promo because the first day of promotion starts on Thursday)?"
   ]
  },
  {
   "cell_type": "markdown",
   "id": "1418dd3f",
   "metadata": {},
   "source": [
    "**Final Questions**</p>\n",
    "- <p>W Data Model mamy błędne SKU Merch Group (note2/Hit Mid Kit_Analysis.xlsx).</p>\n",
    "- <p>Po co pokazywać wartości w ItemSummary dla produków takich jak \"276636 Multicolor 5\", czyli takich które nie mają określonego weekfrom/end i mają puste wiersze</p>\n",
    "- <p>Czy trzeba brać pod uwagę sklepy, których nie ma w pliku Grading.csv (note4/Hit Mid Kit_Analysis.xlsx)?</p>\n",
    "- <p>Po co brać pod uwagę PLU bez sprzedaży (brak w Inventory?)</p>\n",
    "    ['326220 Multicolor 5',\n",
    "    '327847 Multicolor 5',\n",
    "    '325537 Multicolor 5',\n",
    "    '331142 Multicolor 5',\n",
    "    '314443 Multicolor 5',\n",
    "    '325966 Multicolor 5',\n",
    "    '331658 Multicolor 5',\n",
    "    '327329 Multicolor 5',\n",
    "    '312499 Royal Blue',\n",
    "    '312500 Black',\n",
    "    '312502 Black',\n",
    "    '327085 Multicolor 5',\n",
    "    '280429 Multicolor 5']"
   ]
  },
  {
   "cell_type": "markdown",
   "id": "4936512d",
   "metadata": {},
   "source": [
    "- Sell Through if regular to 0\n",
    "- ItemExclusion: dodaj tę funkcję do df4 bo ratio/ros/promofactor liczą się dla ItemExcl=0\n",
    "- Jest opcja zmiany rosa (w data model \"x\") - dodaj to"
   ]
  },
  {
   "cell_type": "markdown",
   "id": "166e1e3e",
   "metadata": {},
   "source": [
    "---"
   ]
  },
  {
   "cell_type": "markdown",
   "id": "3f71caf1",
   "metadata": {},
   "source": [
    "# Next Steps"
   ]
  },
  {
   "cell_type": "markdown",
   "id": "527ec88a",
   "metadata": {},
   "source": [
    "- <p>df6 = ItemExclusion(df6, Sku_plu)<p>There will be two buttons in the model (calculate/refresh parameters). If we click refresh then \"ItemExclusion\" table will be overwritten and the scoring will be re-calculated. Note that the first runn need to be done before we will be able to refresh the calculations. Suggestions: calculate the tables before share the files with planners</p>\n",
    "- <p>In \"aggregateInv\" I use left join because if Merch Type = Y then no matter if InStock >= MinStores. Double check it</p>\n",
    "- <p>Item Exclusion</p>\n",
    "    Wrzuć tabelę do excela a planiści manualnie mogą zmieniać 3 kolumny po czym przeliczą się wartości ponownie.\n",
    "    IF(LOOKUPVALUE(ItemExcl[Multi],ItemExcl[Option],'SKU PLU'[Option])=\"X\",\n",
    "    IF(LEFT('SKU PLU'[SKU Colour],5)=\"Multi\",1,0),\n",
    "    0)"
   ]
  }
 ],
 "metadata": {
  "kernelspec": {
   "display_name": "Python 3",
   "language": "python",
   "name": "python3"
  },
  "language_info": {
   "codemirror_mode": {
    "name": "ipython",
    "version": 3
   },
   "file_extension": ".py",
   "mimetype": "text/x-python",
   "name": "python",
   "nbconvert_exporter": "python",
   "pygments_lexer": "ipython3",
   "version": "3.8.8"
  }
 },
 "nbformat": 4,
 "nbformat_minor": 5
}
